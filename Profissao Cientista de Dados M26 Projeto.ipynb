{
 "cells": [
  {
   "cell_type": "markdown",
   "metadata": {
    "id": "2xcKXdd3WR17"
   },
   "source": [
    "# **MÓDULO 26 - Projeto Final do Aprofundamento de Analytics**"
   ]
  },
  {
   "cell_type": "markdown",
   "metadata": {
    "id": "JawTVJK2W-9v"
   },
   "source": [
    "Bem-vindos ao Projeto de Dashboard de E-commerce! Este projeto é uma oportunidade para vocês aplicarem habilidades essenciais de análise de dados em um cenário prático e realista. Vocês irão trabalhar com um conjunto de dados de transações de clientes de uma loja virtual, distribuídos em duas tabelas distintas. O objetivo final é construir um dashboard interativo que facilite a visualização e análise das informações relevantes do e-commerce, utilizando ferramentas como Looker Studio ou Power BI."
   ]
  },
  {
   "cell_type": "markdown",
   "metadata": {
    "id": "6_UQwlRYXJnG"
   },
   "source": [
    "**Objetivo do Projeto:**\n",
    "\n",
    "Tratamento de Dados: Realizar a junção (JOIN) de duas tabelas utilizando SQL para consolidar as informações.\n",
    "Análise de Dados: Exportar os dados resultantes para um arquivo CSV.\n",
    "Visualização de Dados: Desenvolver um dashboard interativo e informativo para visualização das principais métricas e insights do e-commerce."
   ]
  },
  {
   "cell_type": "markdown",
   "metadata": {
    "id": "70syl2pLXQ28"
   },
   "source": [
    "**Tabelas Disponibilizadas:**\n",
    "\n",
    "**Tabela de Transações:** Contém os registros de transações realizadas pelos clientes, incluindo detalhes como ID da transação, valor e outros.\n",
    "\n",
    "\n",
    "**Tabela de Dados Pessoais:** Contém as informações pessoais dos clientes, como ID do cliente, nome, genero, cidade, etc.\n",
    "\n",
    "**Chave de Ligação:** As tabelas se relacionam através da coluna ID_CLIENT, que é a chave identificadora dos clientes."
   ]
  },
  {
   "cell_type": "markdown",
   "metadata": {
    "id": "xkLSMEBoXeYT"
   },
   "source": [
    "# Etapas do Projeto:\n",
    "\n",
    "1. Realizar um JOIN SQL nas duas tabelas, unificando as informações através da coluna ID_CLIENT. Você deve justificar a escolha do JOIN (Inner/ Left/ Right ou Full).\n",
    "\n",
    "2. Exportar os dados consolidados resultantes do JOIN para um arquivo CSV.\n",
    "\n",
    "3. Utilizar Looker Studio ou Power BI para importar o arquivo CSV.\n",
    "\n",
    "4. Criar visualizações interativas que apresentem métricas importantes, como total de vendas, número de transações, distribuição geográfica dos clientes, perfil demográfico dos clientes, entre outros."
   ]
  },
  {
   "cell_type": "markdown",
   "metadata": {
    "id": "lRVU4Dl_X0V4"
   },
   "source": [
    "Abaixo temos a configuração do ambiente SQL:"
   ]
  },
  {
   "cell_type": "code",
   "execution_count": 2,
   "metadata": {
    "id": "5_Mqh988V-Tf"
   },
   "outputs": [],
   "source": [
    "import sqlite3\n",
    "import pandas as pd"
   ]
  },
  {
   "cell_type": "code",
   "execution_count": 3,
   "metadata": {
    "id": "JNEitpAKYJfJ"
   },
   "outputs": [],
   "source": [
    "df_transacoes = pd.read_csv(\"TB_TRANSACOES_PROJETO_ECOMM.csv\", delimiter=';')\n",
    "df_clientes = pd.read_csv(\"TB_CLIENTES_PROJETO_ECOMM.csv\", delimiter=';')"
   ]
  },
  {
   "cell_type": "code",
   "execution_count": 4,
   "metadata": {
    "colab": {
     "base_uri": "https://localhost:8080/"
    },
    "id": "WnmPtyP6YReh",
    "outputId": "7d1bb95d-1026-417a-d93e-033b91c69be8"
   },
   "outputs": [
    {
     "data": {
      "text/plain": [
       "175"
      ]
     },
     "execution_count": 4,
     "metadata": {},
     "output_type": "execute_result"
    }
   ],
   "source": [
    "conn = sqlite3.connect('projeto.db')\n",
    "# Carregar o DataFrame no banco de dados SQLite - criando tb_transacoes e tb_clientes\n",
    "df_transacoes.to_sql('tb_transacoes', conn, index=False, if_exists='replace')\n",
    "df_clientes.to_sql('tb_clientes', conn, index=False, if_exists='replace')"
   ]
  },
  {
   "cell_type": "code",
   "execution_count": 5,
   "metadata": {
    "id": "pMOeIO95Yfm4"
   },
   "outputs": [],
   "source": [
    "# Função para executar consultas SQL e retornar o resultado como um DataFrame\n",
    "def run_query(query):\n",
    "    return pd.read_sql_query(query, conn)"
   ]
  },
  {
   "cell_type": "code",
   "execution_count": 6,
   "metadata": {
    "id": "lMSQyM6qaIEu"
   },
   "outputs": [
    {
     "name": "stdout",
     "output_type": "stream",
     "text": [
      "    state_name First_name  Gender                     Job_Title  Id_client  \\\n",
      "0           TX    Domingo    Male  Structural Analysis Engineer        1.0   \n",
      "1           MI    Russell    Male            Speech Pathologist        2.0   \n",
      "2           AL     Kimble    Male           Account Coordinator        3.0   \n",
      "3           IL   Barnabas    Male               General Manager        4.0   \n",
      "4           MN     Tanney  Female                  VP Marketing        5.0   \n",
      "..         ...        ...     ...                           ...        ...   \n",
      "362       None       None    None                          None        NaN   \n",
      "363       None       None    None                          None        NaN   \n",
      "364       None       None    None                          None        NaN   \n",
      "365       None       None    None                          None        NaN   \n",
      "366       None       None    None                          None        NaN   \n",
      "\n",
      "     id_client   Category   Price   Card Type  \n",
      "0            1   Outdoors   16,97  mastercard  \n",
      "1            2    Grocery  143,39  mastercard  \n",
      "2            3      Music   37,64  mastercard  \n",
      "3            4    Jewelry    8,51  mastercard  \n",
      "4            5   Outdoors   61,95  mastercard  \n",
      "..         ...        ...     ...         ...  \n",
      "362        363    Jewelry   44,32  mastercard  \n",
      "363        364       Kids  120,42  mastercard  \n",
      "364        365    Grocery   24,31  mastercard  \n",
      "365        366      Tools  111,53  mastercard  \n",
      "366        367  Computers   84,57  mastercard  \n",
      "\n",
      "[367 rows x 9 columns]\n"
     ]
    }
   ],
   "source": [
    "query = \"\"\"\n",
    "SELECT\n",
    "*\n",
    "FROM tb_clientes\n",
    "RIGHT JOIN  tb_transacoes\n",
    "ON tb_clientes.Id_client = tb_transacoes.id_client\n",
    "\n",
    "\"\"\"\n",
    "result_df = run_query(query)\n",
    "print(result_df)"
   ]
  },
  {
   "cell_type": "markdown",
   "metadata": {
    "id": "PfsVPMwQZlNe"
   },
   "source": [
    "Justifique a escolha do JOIN:"
   ]
  },
  {
   "cell_type": "markdown",
   "metadata": {},
   "source": [
    "**R)** - Escolhi o RIGHT, pois ele vai trazer todos os resultados mesmo que a outra tabela (esquerda) tenha dados faltantes, por acreditar que possa existir transações sem identificão de cliente."
   ]
  },
  {
   "cell_type": "markdown",
   "metadata": {
    "id": "ca7R_MgCZ2eh"
   },
   "source": [
    "Exportando o arquivo como CSV:"
   ]
  },
  {
   "cell_type": "code",
   "execution_count": 7,
   "metadata": {
    "id": "06eFgBSpZ4Xh"
   },
   "outputs": [],
   "source": [
    "result_df.to_csv('dados_ecommerce_final.csv', index=False)"
   ]
  },
  {
   "cell_type": "markdown",
   "metadata": {
    "id": "yWnbq4nraMNv"
   },
   "source": [
    "**Dicas para o projeto:**\n",
    "- Se atente que, como o mesmo cliente realiza mais de 1 transação quando você for trazer alguma métrica relacionada a dados do cliente terá que utilizar o distinct para criar essas métricas no dashboard, se não acabará tendo os dados repetidos.\n",
    "\n",
    "- Análise sua tabela, entenda a dimensão dos dados, no excel, antes de enviar para o Powerbi ou Looker Studio.\n",
    "\n",
    "- Tente montar preveamente um roteiro de quais métricas e visualizações irá colocar no dashboard, isso tornará seu processo mais rápido.\n",
    "\n",
    "- Qualquer dificuldade para subir sua base para as ferramentas de visualização envie a base e o erro encontrado para que os tutores possam te ajudar."
   ]
  },
  {
   "cell_type": "code",
   "execution_count": 9,
   "metadata": {},
   "outputs": [
    {
     "data": {
      "text/html": [
       "<div>\n",
       "<style scoped>\n",
       "    .dataframe tbody tr th:only-of-type {\n",
       "        vertical-align: middle;\n",
       "    }\n",
       "\n",
       "    .dataframe tbody tr th {\n",
       "        vertical-align: top;\n",
       "    }\n",
       "\n",
       "    .dataframe thead th {\n",
       "        text-align: right;\n",
       "    }\n",
       "</style>\n",
       "<table border=\"1\" class=\"dataframe\">\n",
       "  <thead>\n",
       "    <tr style=\"text-align: right;\">\n",
       "      <th></th>\n",
       "      <th>state_name</th>\n",
       "      <th>First_name</th>\n",
       "      <th>Gender</th>\n",
       "      <th>Job_Title</th>\n",
       "      <th>Id_client</th>\n",
       "      <th>id_client</th>\n",
       "      <th>Category</th>\n",
       "      <th>Price</th>\n",
       "      <th>Card Type</th>\n",
       "    </tr>\n",
       "  </thead>\n",
       "  <tbody>\n",
       "    <tr>\n",
       "      <th>0</th>\n",
       "      <td>TX</td>\n",
       "      <td>Domingo</td>\n",
       "      <td>Male</td>\n",
       "      <td>Structural Analysis Engineer</td>\n",
       "      <td>1.0</td>\n",
       "      <td>1</td>\n",
       "      <td>Outdoors</td>\n",
       "      <td>16,97</td>\n",
       "      <td>mastercard</td>\n",
       "    </tr>\n",
       "    <tr>\n",
       "      <th>1</th>\n",
       "      <td>MI</td>\n",
       "      <td>Russell</td>\n",
       "      <td>Male</td>\n",
       "      <td>Speech Pathologist</td>\n",
       "      <td>2.0</td>\n",
       "      <td>2</td>\n",
       "      <td>Grocery</td>\n",
       "      <td>143,39</td>\n",
       "      <td>mastercard</td>\n",
       "    </tr>\n",
       "    <tr>\n",
       "      <th>2</th>\n",
       "      <td>AL</td>\n",
       "      <td>Kimble</td>\n",
       "      <td>Male</td>\n",
       "      <td>Account Coordinator</td>\n",
       "      <td>3.0</td>\n",
       "      <td>3</td>\n",
       "      <td>Music</td>\n",
       "      <td>37,64</td>\n",
       "      <td>mastercard</td>\n",
       "    </tr>\n",
       "    <tr>\n",
       "      <th>3</th>\n",
       "      <td>IL</td>\n",
       "      <td>Barnabas</td>\n",
       "      <td>Male</td>\n",
       "      <td>General Manager</td>\n",
       "      <td>4.0</td>\n",
       "      <td>4</td>\n",
       "      <td>Jewelry</td>\n",
       "      <td>8,51</td>\n",
       "      <td>mastercard</td>\n",
       "    </tr>\n",
       "    <tr>\n",
       "      <th>4</th>\n",
       "      <td>MN</td>\n",
       "      <td>Tanney</td>\n",
       "      <td>Female</td>\n",
       "      <td>VP Marketing</td>\n",
       "      <td>5.0</td>\n",
       "      <td>5</td>\n",
       "      <td>Outdoors</td>\n",
       "      <td>61,95</td>\n",
       "      <td>mastercard</td>\n",
       "    </tr>\n",
       "    <tr>\n",
       "      <th>5</th>\n",
       "      <td>MN</td>\n",
       "      <td>Tanney</td>\n",
       "      <td>Female</td>\n",
       "      <td>VP Marketing</td>\n",
       "      <td>5.0</td>\n",
       "      <td>5</td>\n",
       "      <td>Grocery</td>\n",
       "      <td>28,42</td>\n",
       "      <td>mastercard</td>\n",
       "    </tr>\n",
       "    <tr>\n",
       "      <th>6</th>\n",
       "      <td>VA</td>\n",
       "      <td>Launce</td>\n",
       "      <td>Male</td>\n",
       "      <td>Automation Specialist I</td>\n",
       "      <td>6.0</td>\n",
       "      <td>6</td>\n",
       "      <td>Outdoors</td>\n",
       "      <td>15,96</td>\n",
       "      <td>mastercard</td>\n",
       "    </tr>\n",
       "    <tr>\n",
       "      <th>7</th>\n",
       "      <td>CO</td>\n",
       "      <td>Adham</td>\n",
       "      <td>Male</td>\n",
       "      <td>Project Manager</td>\n",
       "      <td>7.0</td>\n",
       "      <td>7</td>\n",
       "      <td>Beauty</td>\n",
       "      <td>149,02</td>\n",
       "      <td>mastercard</td>\n",
       "    </tr>\n",
       "    <tr>\n",
       "      <th>8</th>\n",
       "      <td>TX</td>\n",
       "      <td>Dante</td>\n",
       "      <td>Male</td>\n",
       "      <td>Geological Engineer</td>\n",
       "      <td>8.0</td>\n",
       "      <td>8</td>\n",
       "      <td>Games</td>\n",
       "      <td>97,38</td>\n",
       "      <td>mastercard</td>\n",
       "    </tr>\n",
       "    <tr>\n",
       "      <th>9</th>\n",
       "      <td>PA</td>\n",
       "      <td>Hi</td>\n",
       "      <td>Female</td>\n",
       "      <td>Senior Cost Accountant</td>\n",
       "      <td>9.0</td>\n",
       "      <td>9</td>\n",
       "      <td>Outdoors</td>\n",
       "      <td>139,96</td>\n",
       "      <td>mastercard</td>\n",
       "    </tr>\n",
       "    <tr>\n",
       "      <th>10</th>\n",
       "      <td>CA</td>\n",
       "      <td>Carmine</td>\n",
       "      <td>Female</td>\n",
       "      <td>Statistician II</td>\n",
       "      <td>10.0</td>\n",
       "      <td>10</td>\n",
       "      <td>Shoes</td>\n",
       "      <td>55,45</td>\n",
       "      <td>mastercard</td>\n",
       "    </tr>\n",
       "    <tr>\n",
       "      <th>11</th>\n",
       "      <td>NC</td>\n",
       "      <td>Waring</td>\n",
       "      <td>Female</td>\n",
       "      <td>Software Consultant</td>\n",
       "      <td>11.0</td>\n",
       "      <td>11</td>\n",
       "      <td>Jewelry</td>\n",
       "      <td>96,16</td>\n",
       "      <td>mastercard</td>\n",
       "    </tr>\n",
       "    <tr>\n",
       "      <th>12</th>\n",
       "      <td>CA</td>\n",
       "      <td>Cori</td>\n",
       "      <td>Female</td>\n",
       "      <td>Senior Sales Associate</td>\n",
       "      <td>12.0</td>\n",
       "      <td>12</td>\n",
       "      <td>Computers</td>\n",
       "      <td>104,93</td>\n",
       "      <td>mastercard</td>\n",
       "    </tr>\n",
       "    <tr>\n",
       "      <th>13</th>\n",
       "      <td>TX</td>\n",
       "      <td>Rodge</td>\n",
       "      <td>Genderfluid</td>\n",
       "      <td>Health Coach III</td>\n",
       "      <td>13.0</td>\n",
       "      <td>13</td>\n",
       "      <td>Baby</td>\n",
       "      <td>92,52</td>\n",
       "      <td>mastercard</td>\n",
       "    </tr>\n",
       "    <tr>\n",
       "      <th>14</th>\n",
       "      <td>TX</td>\n",
       "      <td>Nikolos</td>\n",
       "      <td>Male</td>\n",
       "      <td>Geologist III</td>\n",
       "      <td>14.0</td>\n",
       "      <td>14</td>\n",
       "      <td>Grocery</td>\n",
       "      <td>108,42</td>\n",
       "      <td>mastercard</td>\n",
       "    </tr>\n",
       "  </tbody>\n",
       "</table>\n",
       "</div>"
      ],
      "text/plain": [
       "   state_name First_name       Gender                     Job_Title  \\\n",
       "0          TX    Domingo         Male  Structural Analysis Engineer   \n",
       "1          MI    Russell         Male            Speech Pathologist   \n",
       "2          AL     Kimble         Male           Account Coordinator   \n",
       "3          IL   Barnabas         Male               General Manager   \n",
       "4          MN     Tanney       Female                  VP Marketing   \n",
       "5          MN     Tanney       Female                  VP Marketing   \n",
       "6          VA     Launce         Male       Automation Specialist I   \n",
       "7          CO      Adham         Male               Project Manager   \n",
       "8          TX      Dante         Male           Geological Engineer   \n",
       "9          PA         Hi       Female        Senior Cost Accountant   \n",
       "10         CA    Carmine       Female               Statistician II   \n",
       "11         NC     Waring       Female           Software Consultant   \n",
       "12         CA       Cori       Female        Senior Sales Associate   \n",
       "13         TX      Rodge  Genderfluid              Health Coach III   \n",
       "14         TX    Nikolos         Male                 Geologist III   \n",
       "\n",
       "    Id_client  id_client   Category   Price   Card Type  \n",
       "0         1.0          1   Outdoors   16,97  mastercard  \n",
       "1         2.0          2    Grocery  143,39  mastercard  \n",
       "2         3.0          3      Music   37,64  mastercard  \n",
       "3         4.0          4    Jewelry    8,51  mastercard  \n",
       "4         5.0          5   Outdoors   61,95  mastercard  \n",
       "5         5.0          5    Grocery   28,42  mastercard  \n",
       "6         6.0          6   Outdoors   15,96  mastercard  \n",
       "7         7.0          7     Beauty  149,02  mastercard  \n",
       "8         8.0          8      Games   97,38  mastercard  \n",
       "9         9.0          9   Outdoors  139,96  mastercard  \n",
       "10       10.0         10      Shoes   55,45  mastercard  \n",
       "11       11.0         11    Jewelry   96,16  mastercard  \n",
       "12       12.0         12  Computers  104,93  mastercard  \n",
       "13       13.0         13       Baby   92,52  mastercard  \n",
       "14       14.0         14    Grocery  108,42  mastercard  "
      ]
     },
     "execution_count": 9,
     "metadata": {},
     "output_type": "execute_result"
    }
   ],
   "source": [
    "df = pd.read_csv('dados_ecommerce_final.csv', delimiter=',')\n",
    "df.head(15)"
   ]
  },
  {
   "cell_type": "code",
   "execution_count": 10,
   "metadata": {},
   "outputs": [
    {
     "name": "stdout",
     "output_type": "stream",
     "text": [
      "<class 'pandas.core.frame.DataFrame'>\n",
      "RangeIndex: 367 entries, 0 to 366\n",
      "Data columns (total 9 columns):\n",
      " #   Column      Non-Null Count  Dtype  \n",
      "---  ------      --------------  -----  \n",
      " 0   state_name  296 non-null    object \n",
      " 1   First_name  296 non-null    object \n",
      " 2   Gender      296 non-null    object \n",
      " 3   Job_Title   296 non-null    object \n",
      " 4   Id_client   296 non-null    float64\n",
      " 5   id_client   367 non-null    int64  \n",
      " 6   Category    367 non-null    object \n",
      " 7   Price       367 non-null    object \n",
      " 8   Card Type   367 non-null    object \n",
      "dtypes: float64(1), int64(1), object(7)\n",
      "memory usage: 25.9+ KB\n"
     ]
    }
   ],
   "source": [
    "df.info()"
   ]
  },
  {
   "cell_type": "markdown",
   "metadata": {},
   "source": [
    "Aqui eu confirmei que realmente existe vendas sem identificação de clientes"
   ]
  }
 ],
 "metadata": {
  "colab": {
   "provenance": []
  },
  "kernelspec": {
   "display_name": ".venv",
   "language": "python",
   "name": "python3"
  },
  "language_info": {
   "codemirror_mode": {
    "name": "ipython",
    "version": 3
   },
   "file_extension": ".py",
   "mimetype": "text/x-python",
   "name": "python",
   "nbconvert_exporter": "python",
   "pygments_lexer": "ipython3",
   "version": "3.11.5"
  }
 },
 "nbformat": 4,
 "nbformat_minor": 0
}
